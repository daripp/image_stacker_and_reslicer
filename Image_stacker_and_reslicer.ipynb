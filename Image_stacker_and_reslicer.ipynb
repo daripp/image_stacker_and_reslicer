{
  "nbformat": 4,
  "nbformat_minor": 0,
  "metadata": {
    "colab": {
      "name": "Image stacker and reslicer",
      "provenance": [],
      "authorship_tag": "ABX9TyNapul50Ofvxdi79RQNOJ1j",
      "include_colab_link": true
    },
    "kernelspec": {
      "name": "python3",
      "display_name": "Python 3"
    },
    "language_info": {
      "name": "python"
    }
  },
  "cells": [
    {
      "cell_type": "markdown",
      "metadata": {
        "id": "view-in-github",
        "colab_type": "text"
      },
      "source": [
        "<a href=\"https://colab.research.google.com/github/daripp/image_stacker_and_reslicer/blob/main/Image_stacker_and_reslicer.ipynb\" target=\"_parent\"><img src=\"https://colab.research.google.com/assets/colab-badge.svg\" alt=\"Open In Colab\"/></a>"
      ]
    },
    {
      "cell_type": "code",
      "metadata": {
        "id": "jwyDX4PlMuDh"
      },
      "source": [
        "from google.colab import drive\n",
        "drive.mount('/content/drive')\n",
        "!ls \"/content/drive/My Drive\"\n"
      ],
      "execution_count": null,
      "outputs": []
    },
    {
      "cell_type": "code",
      "metadata": {
        "id": "WCjaW09OMP6Z"
      },
      "source": [
        "#Works Great TIFF STACKER any image type, a bit slow.....also can eat up all your RAM, so be careful of stacking large folders of images (20 gb max)\n",
        "from google.colab import drive\n",
        "drive.mount('/content/drive')\n",
        "!ls \"/content/drive/My Drive\"\n",
        "\n",
        "import tifffile as tifffile\n",
        "import os as os\n",
        "import numpy as np\n",
        "from skimage import filters, transform, io\n",
        "#put the name for the image stack you want here\n",
        "with tifffile.TiffWriter('drive/My Drive/filepath/new_image_stack.tiff', bigtiff=True) as stack:\n",
        "#put the file path to the folder of images you want to stack here\n",
        "    dir_name = 'drive/My Drive/filepath/folder_of_images/'\n",
        "    filenames = os.listdir(dir_name)\n",
        "    #remove extranious file info from the images here by splitting before and after the image #; this will make sure the images are ordered properly in the stack\n",
        "    sort_idx = np.argsort([int(filename.split('bit')[1].split('.png')[0]) for filename in filenames])\n",
        "    for i in sort_idx:\n",
        "        filename = dir_name + filenames[i]\n",
        "        \n",
        "#         image=np.array(filename, dtype='ubyte')\n",
        "#         image=np.array(filename)\n",
        "        stack.save(io.imread(filename))"
      ],
      "execution_count": null,
      "outputs": []
    },
    {
      "cell_type": "code",
      "metadata": {
        "id": "3tKbV7nENArr"
      },
      "source": [
        "#reslicer\n",
        "#TIFF stack unstacker\n",
        "from google.colab import drive\n",
        "drive.mount('/content/drive')\n",
        "!ls \"/content/drive/My Drive\"\n",
        "\n",
        "import glob\n",
        "import numpy as np\n",
        "import matplotlib.pyplot as plt\n",
        "import skimage as sk\n",
        "\n",
        "from skimage import filters, io, img_as_ubyte\n",
        "from skimage.data import camera\n",
        "import numpy as np\n",
        "import matplotlib.pyplot as plt\n",
        "import skimage as sk\n",
        "\n",
        "from skimage import filters, io\n",
        "from skimage.data import camera\n",
        "from skimage import data, io,img_as_float64, img_as_float32\n",
        "from skimage.exposure import histogram\n",
        "from scipy import ndimage as ndi\n",
        "import skimage as sk\n",
        "import tifffile\n",
        "%matplotlib inline\n",
        "from matplotlib import cm\n",
        "from matplotlib import pyplot as plt\n",
        "from skimage import img_as_float64, img_as_int, img_as_uint\n",
        "from mpl_toolkits.mplot3d.art3d import Poly3DCollection, Line3DCollection\n",
        "from PIL import Image\n",
        "import numpy as np\n",
        "import os\n",
        "import numpy as np\n",
        "\n",
        "from scipy import ndimage as ndi\n",
        "\n",
        "from skimage import (exposure, feature, filters, io, measure,\n",
        "                      morphology, restoration, segmentation, transform,\n",
        "                      util)\n",
        "#put the new directory you want to save the resliced images to here\n",
        "directn='drive/My Drive/filepath/'\n",
        "#put the new folder name here\n",
        "new_dir_name=directn+'new folder name'\n",
        "os.makedirs(new_dir_name)\n",
        "if not os.path.exists(new_dir_name):\n",
        "      os.makedirs(new_dir_name)\n",
        "#Put name of filepath and file name for the image stack you want to split here:\n",
        "img=io.imread_collection('drive/My Drive/filepath/stack_name.tiff', plugin='tifffile')\n",
        "img=np.array(img)\n",
        "\n",
        "Z=img.shape\n",
        "print(Z[1])\n",
        "\n",
        "#save \n",
        "for i in range(Z[1]):\n",
        "         io.imsave(new_dir_name+'/'+'all_tissues_resliced%s.png'%i, (img[:,i,:]))\n",
        "   "
      ],
      "execution_count": null,
      "outputs": []
    },
    {
      "cell_type": "code",
      "metadata": {
        "id": "UM86x7GqPcwE"
      },
      "source": [
        ""
      ],
      "execution_count": null,
      "outputs": []
    }
  ]
}