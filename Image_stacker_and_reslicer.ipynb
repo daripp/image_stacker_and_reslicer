{
  "nbformat": 4,
  "nbformat_minor": 0,
  "metadata": {
    "colab": {
      "name": "Image stacker and reslicer",
      "provenance": [],
      "authorship_tag": "ABX9TyNapul50Ofvxdi79RQNOJ1j",
      "include_colab_link": true
    },
    "kernelspec": {
      "name": "python3",
      "display_name": "Python 3"
    },
    "language_info": {
      "name": "python"
    }
  },
  "cells": [
    {
      "cell_type": "markdown",
      "metadata": {
        "id": "view-in-github",
        "colab_type": "text"
      },
      "source": [
        "<a href=\"https://colab.research.google.com/github/daripp/image_stacker_and_reslicer/blob/main/Image_stacker_and_reslicer.ipynb\" target=\"_parent\"><img src=\"https://colab.research.google.com/assets/colab-badge.svg\" alt=\"Open In Colab\"/></a>"
      ]
    },
    {
      "cell_type": "code",
      "metadata": {
        "colab": {
          "base_uri": "https://localhost:8080/"
        },
        "id": "jwyDX4PlMuDh",
        "outputId": "7b3969b3-c600-4743-e68d-480736960d9a"
      },
      "source": [
        "from google.colab import drive\n",
        "drive.mount('/content/drive')\n",
        "!ls \"/content/drive/My Drive\"\n"
      ],
      "execution_count": null,
      "outputs": [
        {
          "output_type": "stream",
          "text":
          ],
          "name": "stdout"
        }
      ]
    },
    {
      "cell_type": "code",
      "metadata": {
        "colab": {
          "base_uri": "https://localhost:8080/"
        },
        "id": "WCjaW09OMP6Z",
        "outputId": "c7212cdb-a9de-49fa-ef6b-b6290ec5e7db"
      },
      "source": [
        "#Works Great TIFF STACKER any image type, a bit slow.....also can eat up all your RAM, so be careful of stacking large folders of images (20 gb max)\n",
        "from google.colab import drive\n",
        "drive.mount('/content/drive')\n",
        "!ls \"/content/drive/My Drive\"\n",
        "\n",
        "import tifffile as tifffile\n",
        "import os as os\n",
        "import numpy as np\n",
        "from skimage import filters, transform, io\n",
        "#put the name for the image stack you want here\n",
        "with tifffile.TiffWriter('drive/My Drive/filepath/new_image_stack.tiff', bigtiff=True) as stack:\n",
        "#put the file path to the folder of images you want to stack here\n",
        "    dir_name = 'drive/My Drive/filepath/folder_of_images/'\n",
        "    filenames = os.listdir(dir_name)\n",
        "    #remove extranious file info from the images here by splitting before and after the image #; this will make sure the images are ordered properly in the stack\n",
        "    sort_idx = np.argsort([int(filename.split('bit')[1].split('.png')[0]) for filename in filenames])\n",
        "    for i in sort_idx:\n",
        "        filename = dir_name + filenames[i]\n",
        "        \n",
        "#         image=np.array(filename, dtype='ubyte')\n",
        "#         image=np.array(filename)\n",
        "        stack.save(io.imread(filename))"
      ],
      "execution_count": null,
      "outputs": [
        {
          "output_type": "stream",
          "text": [
            
          ],
          "name": "stdout"
        },
        {
          "output_type": "stream",
          "text": [
            "/usr/local/lib/python3.7/dist-packages/ipykernel_launcher.py:55: UserWarning: drive/My Drive/FCN WORKFLOW PAPER/486_R2_Sep_BSE12x12_binary_good example/all_tissues_resliced_/all_tissues_resliced0.png is a low contrast image\n",
            "/usr/local/lib/python3.7/dist-packages/ipykernel_launcher.py:55: UserWarning: drive/My Drive/FCN WORKFLOW PAPER/486_R2_Sep_BSE12x12_binary_good example/all_tissues_resliced_/all_tissues_resliced1.png is a low contrast image\n",
            "/usr/local/lib/python3.7/dist-packages/ipykernel_launcher.py:55: UserWarning: drive/My Drive/FCN WORKFLOW PAPER/486_R2_Sep_BSE12x12_binary_good example/all_tissues_resliced_/all_tissues_resliced2.png is a low contrast image\n",
            "/usr/local/lib/python3.7/dist-packages/ipykernel_launcher.py:55: UserWarning: drive/My Drive/FCN WORKFLOW PAPER/486_R2_Sep_BSE12x12_binary_good example/all_tissues_resliced_/all_tissues_resliced3.png is a low contrast image\n",
            "/usr/local/lib/python3.7/dist-packages/ipykernel_launcher.py:55: UserWarning: drive/My Drive/FCN WORKFLOW PAPER/486_R2_Sep_BSE12x12_binary_good example/all_tissues_resliced_/all_tissues_resliced4.png is a low contrast image\n",
            "/usr/local/lib/python3.7/dist-packages/ipykernel_launcher.py:55: UserWarning: drive/My Drive/FCN WORKFLOW PAPER/486_R2_Sep_BSE12x12_binary_good example/all_tissues_resliced_/all_tissues_resliced5.png is a low contrast image\n",
            "/usr/local/lib/python3.7/dist-packages/ipykernel_launcher.py:55: UserWarning: drive/My Drive/FCN WORKFLOW PAPER/486_R2_Sep_BSE12x12_binary_good example/all_tissues_resliced_/all_tissues_resliced6.png is a low contrast image\n",
            "/usr/local/lib/python3.7/dist-packages/ipykernel_launcher.py:55: UserWarning: drive/My Drive/FCN WORKFLOW PAPER/486_R2_Sep_BSE12x12_binary_good example/all_tissues_resliced_/all_tissues_resliced7.png is a low contrast image\n",
            "/usr/local/lib/python3.7/dist-packages/ipykernel_launcher.py:55: UserWarning: drive/My Drive/FCN WORKFLOW PAPER/486_R2_Sep_BSE12x12_binary_good example/all_tissues_resliced_/all_tissues_resliced8.png is a low contrast image\n",
            "/usr/local/lib/python3.7/dist-packages/ipykernel_launcher.py:55: UserWarning: drive/My Drive/FCN WORKFLOW PAPER/486_R2_Sep_BSE12x12_binary_good example/all_tissues_resliced_/all_tissues_resliced9.png is a low contrast image\n",
            "/usr/local/lib/python3.7/dist-packages/ipykernel_launcher.py:55: UserWarning: drive/My Drive/FCN WORKFLOW PAPER/486_R2_Sep_BSE12x12_binary_good example/all_tissues_resliced_/all_tissues_resliced10.png is a low contrast image\n",
            "/usr/local/lib/python3.7/dist-packages/ipykernel_launcher.py:55: UserWarning: drive/My Drive/FCN WORKFLOW PAPER/486_R2_Sep_BSE12x12_binary_good example/all_tissues_resliced_/all_tissues_resliced11.png is a low contrast image\n",
            "/usr/local/lib/python3.7/dist-packages/ipykernel_launcher.py:55: UserWarning: drive/My Drive/FCN WORKFLOW PAPER/486_R2_Sep_BSE12x12_binary_good example/all_tissues_resliced_/all_tissues_resliced12.png is a low contrast image\n",
            "/usr/local/lib/python3.7/dist-packages/ipykernel_launcher.py:55: UserWarning: drive/My Drive/FCN WORKFLOW PAPER/486_R2_Sep_BSE12x12_binary_good example/all_tissues_resliced_/all_tissues_resliced13.png is a low contrast image\n",
            "/usr/local/lib/python3.7/dist-packages/ipykernel_launcher.py:55: UserWarning: drive/My Drive/FCN WORKFLOW PAPER/486_R2_Sep_BSE12x12_binary_good example/all_tissues_resliced_/all_tissues_resliced14.png is a low contrast image\n",
            "/usr/local/lib/python3.7/dist-packages/ipykernel_launcher.py:55: UserWarning: drive/My Drive/FCN WORKFLOW PAPER/486_R2_Sep_BSE12x12_binary_good example/all_tissues_resliced_/all_tissues_resliced15.png is a low contrast image\n",
            "/usr/local/lib/python3.7/dist-packages/ipykernel_launcher.py:55: UserWarning: drive/My Drive/FCN WORKFLOW PAPER/486_R2_Sep_BSE12x12_binary_good example/all_tissues_resliced_/all_tissues_resliced16.png is a low contrast image\n",
            "/usr/local/lib/python3.7/dist-packages/ipykernel_launcher.py:55: UserWarning: drive/My Drive/FCN WORKFLOW PAPER/486_R2_Sep_BSE12x12_binary_good example/all_tissues_resliced_/all_tissues_resliced17.png is a low contrast image\n",
            "/usr/local/lib/python3.7/dist-packages/ipykernel_launcher.py:55: UserWarning: drive/My Drive/FCN WORKFLOW PAPER/486_R2_Sep_BSE12x12_binary_good example/all_tissues_resliced_/all_tissues_resliced195.png is a low contrast image\n",
            "/usr/local/lib/python3.7/dist-packages/ipykernel_launcher.py:55: UserWarning: drive/My Drive/FCN WORKFLOW PAPER/486_R2_Sep_BSE12x12_binary_good example/all_tissues_resliced_/all_tissues_resliced196.png is a low contrast image\n",
            "/usr/local/lib/python3.7/dist-packages/ipykernel_launcher.py:55: UserWarning: drive/My Drive/FCN WORKFLOW PAPER/486_R2_Sep_BSE12x12_binary_good example/all_tissues_resliced_/all_tissues_resliced197.png is a low contrast image\n",
            "/usr/local/lib/python3.7/dist-packages/ipykernel_launcher.py:55: UserWarning: drive/My Drive/FCN WORKFLOW PAPER/486_R2_Sep_BSE12x12_binary_good example/all_tissues_resliced_/all_tissues_resliced198.png is a low contrast image\n",
            "/usr/local/lib/python3.7/dist-packages/ipykernel_launcher.py:55: UserWarning: drive/My Drive/FCN WORKFLOW PAPER/486_R2_Sep_BSE12x12_binary_good example/all_tissues_resliced_/all_tissues_resliced199.png is a low contrast image\n",
            "/usr/local/lib/python3.7/dist-packages/ipykernel_launcher.py:55: UserWarning: drive/My Drive/FCN WORKFLOW PAPER/486_R2_Sep_BSE12x12_binary_good example/all_tissues_resliced_/all_tissues_resliced200.png is a low contrast image\n",
            "/usr/local/lib/python3.7/dist-packages/ipykernel_launcher.py:55: UserWarning: drive/My Drive/FCN WORKFLOW PAPER/486_R2_Sep_BSE12x12_binary_good example/all_tissues_resliced_/all_tissues_resliced201.png is a low contrast image\n",
            "/usr/local/lib/python3.7/dist-packages/ipykernel_launcher.py:55: UserWarning: drive/My Drive/FCN WORKFLOW PAPER/486_R2_Sep_BSE12x12_binary_good example/all_tissues_resliced_/all_tissues_resliced202.png is a low contrast image\n",
            "/usr/local/lib/python3.7/dist-packages/ipykernel_launcher.py:55: UserWarning: drive/My Drive/FCN WORKFLOW PAPER/486_R2_Sep_BSE12x12_binary_good example/all_tissues_resliced_/all_tissues_resliced203.png is a low contrast image\n"
          ],
          "name": "stderr"
        }
      ]
    },
    {
      "cell_type": "code",
      "metadata": {
        "id": "UM86x7GqPcwE"
      },
      "source": [
        ""
      ],
      "execution_count": null,
      "outputs": []
    }
  ]
}
